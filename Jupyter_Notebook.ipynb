{
  "metadata": {
    "kernelspec": {
      "name": "python",
      "display_name": "Pyolite",
      "language": "python"
    },
    "language_info": {
      "codemirror_mode": {
        "name": "python",
        "version": 3
      },
      "file_extension": ".py",
      "mimetype": "text/x-python",
      "name": "python",
      "nbconvert_exporter": "python",
      "pygments_lexer": "ipython3",
      "version": "3.8"
    }
  },
  "nbformat_minor": 4,
  "nbformat": 4,
  "cells": [
    {
      "cell_type": "markdown",
      "source": "<center>\n    <img src=\"https://s3-api.us-geo.objectstorage.softlayer.net/cf-courses-data/CognitiveClass/Logos/organization_logo/organization_logo.png\" width=\"300\" alt=\"cognitiveclass.ai logo\"  />\n</center>\n",
      "metadata": {}
    },
    {
      "cell_type": "markdown",
      "source": "# My Jupyter Notebook on IBM Watson Studio",
      "metadata": {}
    },
    {
      "cell_type": "markdown",
      "source": "**Tiago Morais**",
      "metadata": {}
    },
    {
      "cell_type": "markdown",
      "source": "Current Occupation: Reserach Associate / Desired Occupation: Data Scientist",
      "metadata": {}
    },
    {
      "cell_type": "markdown",
      "source": "*I'm interested in data science because I've been working with large data sets for more than 5 years.*",
      "metadata": {}
    },
    {
      "cell_type": "markdown",
      "source": "### The code below is the sum of 10 plus 10",
      "metadata": {}
    },
    {
      "cell_type": "code",
      "source": "10+10",
      "metadata": {
        "trusted": true
      },
      "execution_count": 7,
      "outputs": [
        {
          "execution_count": 7,
          "output_type": "execute_result",
          "data": {
            "text/plain": "20"
          },
          "metadata": {}
        }
      ]
    },
    {
      "cell_type": "markdown",
      "source": "***\n\n* Houses\n\n    * 1 Bedroom\n    * 2 Bedrooms\n    * 3 Bedrooms",
      "metadata": {}
    },
    {
      "cell_type": "markdown",
      "source": "Videos can be found <a href=\"http://www.youtube.com\" target=\"_blank\">here</a>!\n\n***",
      "metadata": {}
    }
  ]
}